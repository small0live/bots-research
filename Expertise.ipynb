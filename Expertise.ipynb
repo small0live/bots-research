{
 "cells": [
  {
   "cell_type": "code",
   "execution_count": 1,
   "metadata": {},
   "outputs": [],
   "source": [
    "import pandas as pd\n",
    "import numpy as np\n",
    "import seaborn as sns\n",
    "%matplotlib inline"
   ]
  },
  {
   "cell_type": "code",
   "execution_count": 2,
   "metadata": {},
   "outputs": [],
   "source": [
    "teamexp = pd.read_csv(\"/Users/olivianewton/Documents/Manuscripts/TopiCS_SpecialIssue/team_expertise_info_raw.csv\")"
   ]
  },
  {
   "cell_type": "code",
   "execution_count": 3,
   "metadata": {
    "scrolled": true
   },
   "outputs": [
    {
     "name": "stderr",
     "output_type": "stream",
     "text": [
      "/opt/anaconda3/lib/python3.8/site-packages/seaborn/distributions.py:2557: FutureWarning: `distplot` is a deprecated function and will be removed in a future version. Please adapt your code to use either `displot` (a figure-level function with similar flexibility) or `histplot` (an axes-level function for histograms).\n",
      "  warnings.warn(msg, FutureWarning)\n",
      "/opt/anaconda3/lib/python3.8/site-packages/seaborn/distributions.py:2557: FutureWarning: `distplot` is a deprecated function and will be removed in a future version. Please adapt your code to use either `displot` (a figure-level function with similar flexibility) or `histplot` (an axes-level function for histograms).\n",
      "  warnings.warn(msg, FutureWarning)\n"
     ]
    },
    {
     "data": {
      "image/png": "[encoded data removed]",
      "text/plain": [
       "<Figure size 432x288 with 1 Axes>"
      ]
     },
     "metadata": {
      "needs_background": "light"
     },
     "output_type": "display_data"
    }
   ],
   "source": [
    "ax = sns.distplot(teamexp[teamexp['Team type'] == 'human']['followers'])\n",
    "ax = sns.distplot(teamexp[teamexp['Team type'] == 'human-bot']['followers'])"
   ]
  },
  {
   "cell_type": "code",
   "execution_count": 4,
   "metadata": {},
   "outputs": [
    {
     "data": {
      "text/plain": [
       "followers                   27.885087\n",
       "following                   62.573959\n",
       "follower_following_ratio     2.105902\n",
       "public_repos                82.092808\n",
       "gh_impact                    2.373707\n",
       "dtype: float64"
      ]
     },
     "execution_count": 4,
     "metadata": {},
     "output_type": "execute_result"
    }
   ],
   "source": [
    "teamexp[teamexp['Team type'] == 'human'].mean()"
   ]
  },
  {
   "cell_type": "code",
   "execution_count": 5,
   "metadata": {},
   "outputs": [
    {
     "data": {
      "text/plain": [
       "followers                    96.457237\n",
       "following                   361.003289\n",
       "follower_following_ratio      5.505310\n",
       "public_repos                635.628289\n",
       "gh_impact                    10.325658\n",
       "dtype: float64"
      ]
     },
     "execution_count": 5,
     "metadata": {},
     "output_type": "execute_result"
    }
   ],
   "source": [
    "teamexp[teamexp['Team type'] == 'human-bot'].mean()"
   ]
  },
  {
   "cell_type": "code",
   "execution_count": 6,
   "metadata": {
    "scrolled": true
   },
   "outputs": [
    {
     "data": {
      "text/html": [
       "<div>\n",
       "<style scoped>\n",
       "    .dataframe tbody tr th:only-of-type {\n",
       "        vertical-align: middle;\n",
       "    }\n",
       "\n",
       "    .dataframe tbody tr th {\n",
       "        vertical-align: top;\n",
       "    }\n",
       "\n",
       "    .dataframe thead th {\n",
       "        text-align: right;\n",
       "    }\n",
       "</style>\n",
       "<table border=\"1\" class=\"dataframe\">\n",
       "  <thead>\n",
       "    <tr style=\"text-align: right;\">\n",
       "      <th></th>\n",
       "      <th>name_h</th>\n",
       "      <th>followers</th>\n",
       "      <th>following</th>\n",
       "      <th>public_repos</th>\n",
       "      <th>gh_impact</th>\n",
       "      <th>Team type</th>\n",
       "    </tr>\n",
       "  </thead>\n",
       "  <tbody>\n",
       "    <tr>\n",
       "      <th>0</th>\n",
       "      <td>--iqCZE8ygTIzjke0InO_w/DsUJjAzSrZHpyQzkVmwf4A</td>\n",
       "      <td>0.049545</td>\n",
       "      <td>-0.051899</td>\n",
       "      <td>0.054834</td>\n",
       "      <td>-0.088738</td>\n",
       "      <td>human</td>\n",
       "    </tr>\n",
       "    <tr>\n",
       "      <th>1</th>\n",
       "      <td>--ynbYaQNUt9ObdPSaKAAA/ucOcrZ9PVv51EXaDXBXtQg</td>\n",
       "      <td>-0.142170</td>\n",
       "      <td>-0.133479</td>\n",
       "      <td>-0.100982</td>\n",
       "      <td>-0.268420</td>\n",
       "      <td>human</td>\n",
       "    </tr>\n",
       "    <tr>\n",
       "      <th>2</th>\n",
       "      <td>-0K4o6gTtkvDYvsNJiOeEA/neOX4u0j5t1dnkldD8zuiw</td>\n",
       "      <td>-0.009444</td>\n",
       "      <td>-0.091694</td>\n",
       "      <td>-0.000705</td>\n",
       "      <td>-0.268420</td>\n",
       "      <td>human</td>\n",
       "    </tr>\n",
       "    <tr>\n",
       "      <th>3</th>\n",
       "      <td>-0Pr09MJXbjkm0S0aFgwSQ/clNeEOtjeVxUV04F0zbomQ</td>\n",
       "      <td>-0.142170</td>\n",
       "      <td>-0.133479</td>\n",
       "      <td>-0.122580</td>\n",
       "      <td>-0.448102</td>\n",
       "      <td>human</td>\n",
       "    </tr>\n",
       "    <tr>\n",
       "      <th>4</th>\n",
       "      <td>-0TJRtTYq1YTWD0Yrm1R0Q/bm3dfy4XVfvaLJYBR_P5_A</td>\n",
       "      <td>-0.132339</td>\n",
       "      <td>-0.131489</td>\n",
       "      <td>-0.087098</td>\n",
       "      <td>-0.268420</td>\n",
       "      <td>human</td>\n",
       "    </tr>\n",
       "  </tbody>\n",
       "</table>\n",
       "</div>"
      ],
      "text/plain": [
       "                                          name_h  followers  following  \\\n",
       "0  --iqCZE8ygTIzjke0InO_w/DsUJjAzSrZHpyQzkVmwf4A   0.049545  -0.051899   \n",
       "1  --ynbYaQNUt9ObdPSaKAAA/ucOcrZ9PVv51EXaDXBXtQg  -0.142170  -0.133479   \n",
       "2  -0K4o6gTtkvDYvsNJiOeEA/neOX4u0j5t1dnkldD8zuiw  -0.009444  -0.091694   \n",
       "3  -0Pr09MJXbjkm0S0aFgwSQ/clNeEOtjeVxUV04F0zbomQ  -0.142170  -0.133479   \n",
       "4  -0TJRtTYq1YTWD0Yrm1R0Q/bm3dfy4XVfvaLJYBR_P5_A  -0.132339  -0.131489   \n",
       "\n",
       "   public_repos  gh_impact Team type  \n",
       "0      0.054834  -0.088738     human  \n",
       "1     -0.100982  -0.268420     human  \n",
       "2     -0.000705  -0.268420     human  \n",
       "3     -0.122580  -0.448102     human  \n",
       "4     -0.087098  -0.268420     human  "
      ]
     },
     "execution_count": 6,
     "metadata": {},
     "output_type": "execute_result"
    }
   ],
   "source": [
    "from sklearn.preprocessing import StandardScaler\n",
    "# print(teamexp.columns)\n",
    "scaler = StandardScaler()\n",
    "cols_to_normalize = ['followers', 'following', 'public_repos', 'gh_impact']\n",
    "X = scaler.fit_transform(teamexp[cols_to_normalize])\n",
    "normalized_teams = pd.DataFrame(data=X, index=teamexp['name_h'], columns=cols_to_normalize)\n",
    "normalized_teams.reset_index(inplace=True)\n",
    "temp = teamexp[['name_h', 'Team type']]\n",
    "# print(temp.columns, normalized_teams.columns)\n",
    "normalized_teams = normalized_teams.merge(temp, on='name_h')\n",
    "normalized_teams.head()"
   ]
  },
  {
   "cell_type": "code",
   "execution_count": 7,
   "metadata": {},
   "outputs": [],
   "source": [
    "import warnings\n",
    "warnings.filterwarnings('ignore')"
   ]
  },
  {
   "cell_type": "code",
   "execution_count": 8,
   "metadata": {},
   "outputs": [
    {
     "name": "stdout",
     "output_type": "stream",
     "text": [
      "Index(['name_h', 'followers', 'following', 'public_repos', 'gh_impact',\n",
      "       'Team type'],\n",
      "      dtype='object')\n"
     ]
    }
   ],
   "source": [
    "from sklearn.neighbors import NearestNeighbors\n",
    "from sklearn.metrics.pairwise import euclidean_distances\n",
    "# normalized_teams.set_index('name_h', inplace=True)\n",
    "X = normalized_teams\n",
    "coltore = ['Team type', 'name_h']\n",
    "print(X.columns)\n",
    "X_hb = X[X['Team type'] == 'human-bot']\n",
    "X_h = X[X['Team type'] == 'human']\n",
    "# nbrs = NearestNeighbors(n_neighbors=1, algorithm='brute').fit(X_h.drop(coltore, axis=1))\n",
    "human_teams = X_h.set_index('name_h').drop('Team type', axis=1).copy(deep=True)\n",
    "selected_teams = []\n",
    "for i, row in X_hb.drop(coltore, axis=1).iterrows():\n",
    "    distances = euclidean_distances(row.values.reshape(1, -1), human_teams)\n",
    "    min_idx = np.argmin(distances)\n",
    "    closest_team = human_teams.index.tolist()[min_idx]\n",
    "    selected_teams.append(closest_team)\n",
    "    human_teams.drop(closest_team, inplace=True)\n",
    "#     print(human_teams.shape)"
   ]
  },
  {
   "cell_type": "code",
   "execution_count": 9,
   "metadata": {},
   "outputs": [
    {
     "name": "stdout",
     "output_type": "stream",
     "text": [
      "(304, 7) Index(['index', 'name_h', 'followers', 'following', 'public_repos',\n",
      "       'gh_impact', 'Team type'],\n",
      "      dtype='object')\n"
     ]
    }
   ],
   "source": [
    "X_h.reset_index(inplace=True)\n",
    "X_h_downsampled = X_h[X_h['name_h'].isin(selected_teams)]\n",
    "print(X_h_downsampled.shape, X_h_downsampled.columns)"
   ]
  },
  {
   "cell_type": "code",
   "execution_count": 10,
   "metadata": {},
   "outputs": [
    {
     "data": {
      "text/plain": [
       "index           10518.000000\n",
       "followers           0.321481\n",
       "following           0.624282\n",
       "public_repos        0.374011\n",
       "gh_impact           1.355810\n",
       "dtype: float64"
      ]
     },
     "execution_count": 10,
     "metadata": {},
     "output_type": "execute_result"
    }
   ],
   "source": [
    "X_h_downsampled.mean()"
   ]
  },
  {
   "cell_type": "code",
   "execution_count": 11,
   "metadata": {},
   "outputs": [
    {
     "data": {
      "text/plain": [
       "followers       0.331992\n",
       "following       0.584827\n",
       "public_repos    0.841052\n",
       "gh_impact       1.407232\n",
       "dtype: float64"
      ]
     },
     "execution_count": 11,
     "metadata": {},
     "output_type": "execute_result"
    }
   ],
   "source": [
    "X_hb.mean()"
   ]
  },
  {
   "cell_type": "code",
   "execution_count": 12,
   "metadata": {},
   "outputs": [],
   "source": [
    "X_h_downsampled['name_h'].to_csv(\"/Users/olivianewton/Documents/Manuscripts/TopiCS_SpecialIssue/Human_Teams_SmartSampled.csv\", index=False)"
   ]
  },
  {
   "cell_type": "code",
   "execution_count": null,
   "metadata": {},
   "outputs": [],
   "source": []
  }
 ],
 "metadata": {
  "kernelspec": {
   "display_name": "Python 3",
   "language": "python",
   "name": "python3"
  },
  "language_info": {
   "codemirror_mode": {
    "name": "ipython",
    "version": 3
   },
   "file_extension": ".py",
   "mimetype": "text/x-python",
   "name": "python",
   "nbconvert_exporter": "python",
   "pygments_lexer": "ipython3",
   "version": "3.8.8"
  }
 },
 "nbformat": 4,
 "nbformat_minor": 2
}
