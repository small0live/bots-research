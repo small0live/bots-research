{
 "cells": [
  {
   "cell_type": "code",
   "execution_count": null,
   "metadata": {},
   "outputs": [],
   "source": [
    "import pandas as pd\n",
    "import numpy as np\n",
    "import seaborn as sns\n",
    "%matplotlib inline"
   ]
  },
  {
   "cell_type": "code",
   "execution_count": null,
   "metadata": {},
   "outputs": [],
   "source": [
    "teamexp = pd.read_csv(\"/Users/olivianewton/Documents/Manuscripts/TopiCS_SpecialIssue/team_expertise_info_raw.csv\")"
   ]
  },
  {
   "cell_type": "code",
   "execution_count": null,
   "metadata": {
    "scrolled": true
   },
   "outputs": [],
   "source": [
    "ax = sns.distplot(teamexp[teamexp['Team type'] == 'human']['followers'])\n",
    "ax = sns.distplot(teamexp[teamexp['Team type'] == 'human-bot']['followers'])"
   ]
  },
  {
   "cell_type": "code",
   "execution_count": null,
   "metadata": {},
   "outputs": [],
   "source": [
    "teamexp[teamexp['Team type'] == 'human'].mean()"
   ]
  },
  {
   "cell_type": "code",
   "execution_count": null,
   "metadata": {},
   "outputs": [],
   "source": [
    "teamexp[teamexp['Team type'] == 'human-bot'].mean()"
   ]
  },
  {
   "cell_type": "code",
   "execution_count": null,
   "metadata": {
    "scrolled": true
   },
   "outputs": [],
   "source": [
    "from sklearn.preprocessing import StandardScaler\n",
    "# print(teamexp.columns)\n",
    "scaler = StandardScaler()\n",
    "cols_to_normalize = ['followers', 'following', 'public_repos', 'gh_impact']\n",
    "X = scaler.fit_transform(teamexp[cols_to_normalize])\n",
    "normalized_teams = pd.DataFrame(data=X, index=teamexp['name_h'], columns=cols_to_normalize)\n",
    "normalized_teams.reset_index(inplace=True)\n",
    "temp = teamexp[['name_h', 'Team type']]\n",
    "# print(temp.columns, normalized_teams.columns)\n",
    "normalized_teams = normalized_teams.merge(temp, on='name_h')\n",
    "normalized_teams.head()"
   ]
  },
  {
   "cell_type": "code",
   "execution_count": null,
   "metadata": {},
   "outputs": [],
   "source": [
    "import warnings\n",
    "warnings.filterwarnings('ignore')"
   ]
  },
  {
   "cell_type": "code",
   "execution_count": null,
   "metadata": {},
   "outputs": [],
   "source": [
    "from sklearn.neighbors import NearestNeighbors\n",
    "from sklearn.metrics.pairwise import euclidean_distances\n",
    "# normalized_teams.set_index('name_h', inplace=True)\n",
    "X = normalized_teams\n",
    "coltore = ['Team type', 'name_h']\n",
    "print(X.columns)\n",
    "X_hb = X[X['Team type'] == 'human-bot']\n",
    "X_h = X[X['Team type'] == 'human']\n",
    "# nbrs = NearestNeighbors(n_neighbors=1, algorithm='brute').fit(X_h.drop(coltore, axis=1))\n",
    "human_teams = X_h.set_index('name_h').drop('Team type', axis=1).copy(deep=True)\n",
    "selected_teams = []\n",
    "for i, row in X_hb.drop(coltore, axis=1).iterrows():\n",
    "    distances = euclidean_distances(row.values.reshape(1, -1), human_teams)\n",
    "    min_idx = np.argmin(distances)\n",
    "    closest_team = human_teams.index.tolist()[min_idx]\n",
    "    selected_teams.append(closest_team)\n",
    "    human_teams.drop(closest_team, inplace=True)\n",
    "#     print(human_teams.shape)"
   ]
  },
  {
   "cell_type": "code",
   "execution_count": null,
   "metadata": {},
   "outputs": [],
   "source": [
    "X_h.reset_index(inplace=True)\n",
    "X_h_downsampled = X_h[X_h['name_h'].isin(selected_teams)]\n",
    "print(X_h_downsampled.shape, X_h_downsampled.columns)"
   ]
  },
  {
   "cell_type": "code",
   "execution_count": null,
   "metadata": {},
   "outputs": [],
   "source": [
    "X_h_downsampled.mean()"
   ]
  },
  {
   "cell_type": "code",
   "execution_count": null,
   "metadata": {},
   "outputs": [],
   "source": [
    "X_hb.mean()"
   ]
  },
  {
   "cell_type": "code",
   "execution_count": null,
   "metadata": {},
   "outputs": [],
   "source": [
    "X_h_downsampled['name_h'].to_csv(\"/Users/olivianewton/Documents/Manuscripts/TopiCS_SpecialIssue/Human_Teams_SmartSampled.csv\", index=False)"
   ]
  }
 ],
 "metadata": {
  "kernelspec": {
   "display_name": "Python 3",
   "language": "python",
   "name": "python3"
  },
  "language_info": {
   "codemirror_mode": {
    "name": "ipython",
    "version": 3
   },
   "file_extension": ".py",
   "mimetype": "text/x-python",
   "name": "python",
   "nbconvert_exporter": "python",
   "pygments_lexer": "ipython3",
   "version": "3.8.8"
  }
 },
 "nbformat": 4,
 "nbformat_minor": 2
}
